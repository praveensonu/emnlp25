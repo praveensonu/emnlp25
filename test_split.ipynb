{
 "cells": [
  {
   "cell_type": "code",
   "execution_count": 1,
   "id": "0e50d55e",
   "metadata": {},
   "outputs": [],
   "source": [
    "import pandas as pd\n",
    "import pandas as pd\n",
    "from groq import Groq\n",
    "import pandas as pd\n",
    "import numpy as np"
   ]
  },
  {
   "cell_type": "code",
   "execution_count": 2,
   "id": "db40f0f7",
   "metadata": {},
   "outputs": [],
   "source": [
    "domain_qa = pd.read_csv('/home/praveen/theoden/emnlp_25/semantic_scores_gte.csv')"
   ]
  },
  {
   "cell_type": "code",
   "execution_count": 3,
   "id": "7e0dee3c",
   "metadata": {},
   "outputs": [
    {
     "data": {
      "text/html": [
       "<div>\n",
       "<style scoped>\n",
       "    .dataframe tbody tr th:only-of-type {\n",
       "        vertical-align: middle;\n",
       "    }\n",
       "\n",
       "    .dataframe tbody tr th {\n",
       "        vertical-align: top;\n",
       "    }\n",
       "\n",
       "    .dataframe thead th {\n",
       "        text-align: right;\n",
       "    }\n",
       "</style>\n",
       "<table border=\"1\" class=\"dataframe\">\n",
       "  <thead>\n",
       "    <tr style=\"text-align: right;\">\n",
       "      <th></th>\n",
       "      <th>title</th>\n",
       "      <th>SimilarName</th>\n",
       "      <th>wikipage</th>\n",
       "      <th>content</th>\n",
       "      <th>semantic_score_docs</th>\n",
       "    </tr>\n",
       "  </thead>\n",
       "  <tbody>\n",
       "    <tr>\n",
       "      <th>0</th>\n",
       "      <td>Benedetto Varchi</td>\n",
       "      <td>Giovanni Boccaccio</td>\n",
       "      <td>Benedetto Varchi (Italian pronunciation: [bene...</td>\n",
       "      <td>Giovanni Boccaccio (UK: /bəˈkætʃioʊ/ bə-KATCH-...</td>\n",
       "      <td>0.63</td>\n",
       "    </tr>\n",
       "    <tr>\n",
       "      <th>1</th>\n",
       "      <td>Benedetto Varchi</td>\n",
       "      <td>Francesco Petrarca</td>\n",
       "      <td>Benedetto Varchi (Italian pronunciation: [bene...</td>\n",
       "      <td>Francis Petrarch (/ˈpɛtrɑːrk, ˈpiːt-/; 20 July...</td>\n",
       "      <td>0.65</td>\n",
       "    </tr>\n",
       "    <tr>\n",
       "      <th>2</th>\n",
       "      <td>Benedetto Varchi</td>\n",
       "      <td>Leonardo Bruni</td>\n",
       "      <td>Benedetto Varchi (Italian pronunciation: [bene...</td>\n",
       "      <td>Leonardo Bruni[a] or Leonardo Aretino (c. 1370...</td>\n",
       "      <td>0.57</td>\n",
       "    </tr>\n",
       "    <tr>\n",
       "      <th>3</th>\n",
       "      <td>Benedetto Varchi</td>\n",
       "      <td>Dante Alighieri</td>\n",
       "      <td>Benedetto Varchi (Italian pronunciation: [bene...</td>\n",
       "      <td>Dante Alighieri (Italian: [ˈdante aliˈɡjɛːri];...</td>\n",
       "      <td>0.61</td>\n",
       "    </tr>\n",
       "    <tr>\n",
       "      <th>4</th>\n",
       "      <td>Benedetto Varchi</td>\n",
       "      <td>Lorenzo de Medici</td>\n",
       "      <td>Benedetto Varchi (Italian pronunciation: [bene...</td>\n",
       "      <td>Lorenzo di Piero de' Medici (Italian: [loˈrɛnt...</td>\n",
       "      <td>0.60</td>\n",
       "    </tr>\n",
       "  </tbody>\n",
       "</table>\n",
       "</div>"
      ],
      "text/plain": [
       "              title         SimilarName  \\\n",
       "0  Benedetto Varchi  Giovanni Boccaccio   \n",
       "1  Benedetto Varchi  Francesco Petrarca   \n",
       "2  Benedetto Varchi      Leonardo Bruni   \n",
       "3  Benedetto Varchi     Dante Alighieri   \n",
       "4  Benedetto Varchi   Lorenzo de Medici   \n",
       "\n",
       "                                            wikipage  \\\n",
       "0  Benedetto Varchi (Italian pronunciation: [bene...   \n",
       "1  Benedetto Varchi (Italian pronunciation: [bene...   \n",
       "2  Benedetto Varchi (Italian pronunciation: [bene...   \n",
       "3  Benedetto Varchi (Italian pronunciation: [bene...   \n",
       "4  Benedetto Varchi (Italian pronunciation: [bene...   \n",
       "\n",
       "                                             content  semantic_score_docs  \n",
       "0  Giovanni Boccaccio (UK: /bəˈkætʃioʊ/ bə-KATCH-...                 0.63  \n",
       "1  Francis Petrarch (/ˈpɛtrɑːrk, ˈpiːt-/; 20 July...                 0.65  \n",
       "2  Leonardo Bruni[a] or Leonardo Aretino (c. 1370...                 0.57  \n",
       "3  Dante Alighieri (Italian: [ˈdante aliˈɡjɛːri];...                 0.61  \n",
       "4  Lorenzo di Piero de' Medici (Italian: [loˈrɛnt...                 0.60  "
      ]
     },
     "execution_count": 3,
     "metadata": {},
     "output_type": "execute_result"
    }
   ],
   "source": [
    "domain_qa.head()"
   ]
  },
  {
   "cell_type": "code",
   "execution_count": 4,
   "id": "9f946fc2",
   "metadata": {},
   "outputs": [],
   "source": [
    "random_seed = 42\n",
    "test_df = domain_qa.groupby('title', group_keys=False).sample(n=1, random_state=random_seed).copy()"
   ]
  },
  {
   "cell_type": "code",
   "execution_count": 5,
   "id": "86562874",
   "metadata": {},
   "outputs": [],
   "source": [
    "test_indices = test_df.index\n",
    "\n",
    "# Create the training set by dropping the test indices from the original DataFrame\n",
    "# Using .copy() ensures train_df is independent\n",
    "final_domain_retain = domain_qa.drop(test_indices).copy()"
   ]
  },
  {
   "cell_type": "code",
   "execution_count": 6,
   "id": "715d2858",
   "metadata": {},
   "outputs": [],
   "source": [
    "all_domain = pd.read_csv('/home/praveen/theoden/emnlp_25/dataset/domain_qa.csv')"
   ]
  },
  {
   "cell_type": "code",
   "execution_count": 7,
   "id": "84fa8e54",
   "metadata": {},
   "outputs": [],
   "source": [
    "list_of_simnames = test_df['SimilarName'].unique().tolist()\n",
    "\n",
    "test_questions = all_domain[all_domain['SimilarName'].isin(list_of_simnames)]\n",
    "retain_questions = all_domain[~all_domain['SimilarName'].isin(list_of_simnames)]"
   ]
  },
  {
   "cell_type": "code",
   "execution_count": 23,
   "id": "71e23216",
   "metadata": {},
   "outputs": [],
   "source": [
    "retain_questions.to_csv('domain_retain_qa.csv', index = False)\n",
    "test_questions.to_csv('domain_test_qa.csv', index = False)"
   ]
  },
  {
   "cell_type": "markdown",
   "id": "5be3e52c",
   "metadata": {},
   "source": [
    "### entity test set"
   ]
  },
  {
   "cell_type": "code",
   "execution_count": 36,
   "id": "aacae02d",
   "metadata": {},
   "outputs": [],
   "source": [
    "df = pd.read_parquet(\"hf://datasets/Shiyu-Lab/Wikipedia_Person_Unlearn/forget_20_1/train-00000-of-00001.parquet\")"
   ]
  },
  {
   "cell_type": "code",
   "execution_count": null,
   "id": "3f85252d",
   "metadata": {},
   "outputs": [],
   "source": [
    "client = Groq(\n",
    "    api_key = \"\"\n",
    ")"
   ]
  },
  {
   "cell_type": "code",
   "execution_count": 44,
   "id": "d91cc13b",
   "metadata": {},
   "outputs": [],
   "source": [
    "sys_prompt = \"\"\"\n",
    "**Task Description:**\n",
    "\n",
    "You are an AI assistant tasked with generating new Question & Answer pairs based on entities found within an existing Answer. Given an initial Question & Answer pair, follow these steps:\n",
    "\n",
    "1.  Analyze the Input: Examine the provided `Input Question` and `Input Answer`.\n",
    "2.  Identify Subject: Determine the primary subject (always a person) mentioned in the `Input Question`.\n",
    "3.  Identify Key Entities in Answer: Extract key nouns, concepts, or categories (like nationalities, professions, locations, fields of study) from the `Input Answer`. These are your target entities.\n",
    "4.  Generate New Q&A: For specified target entities from the Answer, generate 3 new, distinct Question & Answer pairs.\n",
    "5.  Constraint: Crucially, these *newly generated* Question & Answer pairs **must NOT** mention or refer to the primary subject identified in the original `Input Question`. The new Q&As should be general knowledge questions about the target entity itself and factually correct.\n",
    "6.  Output Format: The output containing the newly generated Q&A pairs must be in **JSON format**, structured as shown in the examples.\n",
    "\n",
    "**Examples:**\n",
    "\n",
    "**Example 1:**\n",
    "\n",
    "*   **Input Question:** What was Artemisia Gentileschi's nationality?\n",
    "*   **Input Answer:** Italian.\n",
    "*   **Instruction:** Generate 2 new Q&A pairs about the entity \"Italian\", excluding \"Artemisia Gentileschi\". Output in JSON.\n",
    "\n",
    "*   **Output:**\n",
    "    ```json\n",
    "    {\n",
    "      \"primary_subject\": \"Artemisia Gentileschi\",\n",
    "      \"target_entity\": \"Italian\",\n",
    "      \"generated_qa_pairs\": [\n",
    "        {\n",
    "          \"question\": \"What type of pasta is shaped like long, thin strands?\",\n",
    "          \"answer\": \"Spaghetti.\"\n",
    "        },\n",
    "        {\n",
    "          \"question\": \"Which Italian city is famous for its canals?\",\n",
    "          \"answer\": \"Venice.\"\n",
    "        }\n",
    "      ]\n",
    "    }\n",
    "    ```\n",
    "\n",
    "**Example 2:**\n",
    "\n",
    "*   **Input Question:** What were Joseph Black's main fields of study?\n",
    "*   **Input Answer:** Chemistry and Medicine.\n",
    "*   **Instruction:** Generate 2 new Q&A pairs about the entity \"Chemistry\", excluding \"Joseph Black\". Output in JSON.\n",
    "\n",
    "*   **Output:**\n",
    "    ```json\n",
    "    {\n",
    "      \"primary_subject\": \"Joseph Black\",\n",
    "      \"target_entity\": \"Chemistry\",\n",
    "      \"generated_qa_pairs\": [\n",
    "        {\n",
    "          \"question\": \"What is the chemical symbol for Gold?\",\n",
    "          \"answer\": \"Au.\"\n",
    "        },\n",
    "        {\n",
    "          \"question\": \"What does the pH scale measure?\",\n",
    "          \"answer\": \"The acidity or alkalinity of a solution.\"\n",
    "        }\n",
    "      ]\n",
    "    }\n",
    "    ```\n",
    "\n",
    "\"\"\""
   ]
  },
  {
   "cell_type": "code",
   "execution_count": 45,
   "id": "5c8ba90a",
   "metadata": {},
   "outputs": [],
   "source": [
    "prompt = \"\"\"\n",
    "**Primary Subject:** {person_name}\n",
    "**Input Question:** {input_question}\n",
    "**Input Answer:** {input_answer}\n",
    "**Instruction:** Generate 3 new Q&A pairs about the entity \"{input_answer}\", excluding \"{person_name}\". Output in JSON.\n",
    "\"\"\""
   ]
  },
  {
   "cell_type": "code",
   "execution_count": 41,
   "id": "68f1c50d",
   "metadata": {},
   "outputs": [],
   "source": [
    "final_df = df.copy()"
   ]
  },
  {
   "cell_type": "code",
   "execution_count": 46,
   "id": "e6591883",
   "metadata": {},
   "outputs": [
    {
     "name": "stdout",
     "output_type": "stream",
     "text": [
      "Now generating for  Benedetto Varchi\n",
      "Now generating for  Benedetto Varchi\n",
      "Now generating for  Benedetto Varchi\n",
      "Now generating for  Benedetto Varchi\n",
      "Now generating for  Benedetto Varchi\n",
      "Now generating for  Benedetto Varchi\n",
      "Now generating for  Benedetto Varchi\n",
      "Now generating for  Wilhelm Wattenbach\n",
      "Now generating for  Wilhelm Wattenbach\n",
      "Now generating for  Wilhelm Wattenbach\n",
      "Now generating for  Elsa Triolet\n",
      "Now generating for  Elsa Triolet\n",
      "Now generating for  Elsa Triolet\n",
      "Now generating for  Elsa Triolet\n",
      "Now generating for  Elsa Triolet\n",
      "Now generating for  Theopompus\n",
      "Now generating for  Theopompus\n",
      "Now generating for  Theopompus\n",
      "Now generating for  Theopompus\n",
      "Now generating for  Heinrich Ritter\n",
      "Now generating for  Heinrich Ritter\n",
      "Now generating for  Heinrich Ritter\n",
      "Now generating for  Heinrich Ritter\n",
      "Now generating for  Adrienne Monnier\n",
      "Now generating for  Adrienne Monnier\n",
      "Now generating for  Adrienne Monnier\n",
      "Now generating for  Adrienne Monnier\n",
      "Now generating for  Ann Brashares\n",
      "Now generating for  Ann Brashares\n",
      "Now generating for  Ann Brashares\n",
      "Now generating for  Hartmann von Aue\n",
      "Now generating for  Hartmann von Aue\n",
      "Now generating for  Hartmann von Aue\n",
      "Now generating for  Hartmann von Aue\n",
      "Now generating for  Hartmann von Aue\n",
      "Now generating for  Jorge Semprún\n",
      "Now generating for  Jorge Semprún\n",
      "Now generating for  Jorge Semprún\n",
      "Now generating for  Jorge Semprún\n",
      "Now generating for  Jorge Semprún\n",
      "Now generating for  Jorge Semprún\n",
      "Now generating for  Giovanni Battista Casti\n",
      "Now generating for  Giovanni Battista Casti\n",
      "Now generating for  Giovanni Battista Casti\n",
      "Now generating for  Giovanni Battista Casti\n",
      "Now generating for  Najaf Daryabandari\n",
      "Now generating for  Najaf Daryabandari\n",
      "Now generating for  Najaf Daryabandari\n",
      "Now generating for  Najaf Daryabandari\n",
      "Now generating for  Heinz Erhardt\n",
      "Now generating for  Heinz Erhardt\n",
      "Now generating for  Heinz Erhardt\n",
      "Now generating for  Heinz Erhardt\n",
      "Now generating for  Heinz Erhardt\n",
      "Now generating for  Rudolf Christoph Eucken\n",
      "Now generating for  Rudolf Christoph Eucken\n",
      "Now generating for  Rudolf Christoph Eucken\n",
      "Now generating for  Rudolf Christoph Eucken\n",
      "Now generating for  Rudolf Christoph Eucken\n",
      "Now generating for  Rudolf Christoph Eucken\n",
      "Now generating for  Rudolf Christoph Eucken\n",
      "Now generating for  Paul Gerhardt\n",
      "Now generating for  Paul Gerhardt\n",
      "Now generating for  Paul Gerhardt\n",
      "Now generating for  Paul Gerhardt\n",
      "Now generating for  Paul Gerhardt\n",
      "Now generating for  Moshe Greenberg\n",
      "Now generating for  Moshe Greenberg\n",
      "Now generating for  Moshe Greenberg\n",
      "Now generating for  Moshe Greenberg\n",
      "Now generating for  Amy Clampitt\n",
      "Now generating for  Amy Clampitt\n",
      "Now generating for  Amy Clampitt\n",
      "Now generating for  Amy Clampitt\n",
      "Now generating for  Amy Clampitt\n",
      "Now generating for  Ted Kooser\n",
      "Now generating for  Ted Kooser\n",
      "Now generating for  Ted Kooser\n",
      "Now generating for  Ted Kooser\n",
      "Now generating for  Alfred Vogel\n",
      "Now generating for  Alfred Vogel\n",
      "Now generating for  Alfred Vogel\n",
      "Now generating for  Alfred Vogel\n",
      "Now generating for  Alfred Vogel\n",
      "Now generating for  Siegfried Lenz\n",
      "Now generating for  Siegfried Lenz\n",
      "Now generating for  Siegfried Lenz\n",
      "Now generating for  Siegfried Lenz\n",
      "Now generating for  Siegfried Lenz\n",
      "Now generating for  Siegfried Lenz\n",
      "Now generating for  Siegfried Lenz\n",
      "Now generating for  Siegfried Lenz\n",
      "Now generating for  Philip Stanhope, 5th Earl Stanhope\n",
      "Now generating for  Philip Stanhope, 5th Earl Stanhope\n",
      "Now generating for  Philip Stanhope, 5th Earl Stanhope\n",
      "Now generating for  Philip Stanhope, 5th Earl Stanhope\n",
      "Now generating for  Philip Stanhope, 5th Earl Stanhope\n",
      "Now generating for  Philip Stanhope, 5th Earl Stanhope\n"
     ]
    }
   ],
   "source": [
    "final_df['entity_questions'] = ''\n",
    "for i, row in final_df.iterrows():\n",
    "    name = row['title']\n",
    "    question = row['question']\n",
    "    answer = row['answer']\n",
    "    sys_prompt = sys_prompt\n",
    "    prompt_text = prompt.format(person_name=name, input_question=question, input_answer=answer)\n",
    "    messages = [\n",
    "    {\"role\": \"system\", \"content\": sys_prompt},\n",
    "    {\"role\": \"user\", \"content\": prompt_text},]\n",
    "    print(\"Now generating for \", name)\n",
    "    response = client.chat.completions.create(\n",
    "        messages= messages,\n",
    "        model=\"llama-3.3-70b-versatile\",\n",
    "        temperature=0.1,\n",
    "        max_completion_tokens=1000\n",
    "    )\n",
    "    response_text = response.choices[0].message.content\n",
    "    final_df.at[i, 'entity_questions'] = response_text\n",
    "    "
   ]
  },
  {
   "cell_type": "code",
   "execution_count": 57,
   "id": "75e3b931",
   "metadata": {},
   "outputs": [],
   "source": [
    "import pandas as pd\n",
    "import json\n",
    "import re # Import the regular expression module\n",
    "\n",
    "\n",
    "json_pattern = re.compile(r\"```json\\s*(.*?)\\s*```\", re.DOTALL)\n",
    "\n",
    "# List to hold the processed data rows\n",
    "processed_rows = []\n",
    "\n",
    "# Iterate through each row of the original DataFrame\n",
    "for index, row in final_df.iterrows():\n",
    "    raw_text = row['entity_questions']\n",
    "\n",
    "    # Ensure it's a string before proceeding\n",
    "    if not isinstance(raw_text, str):\n",
    "        print(f\"Skipping row {index}: Input is not a string ({type(raw_text)}).\")\n",
    "        continue # Skip non-string entries\n",
    "\n",
    "    # Find the JSON block using regex\n",
    "    match = json_pattern.search(raw_text)\n",
    "\n",
    "    if match:\n",
    "        # Extract the captured group (the JSON string itself)\n",
    "        json_string = match.group(1).strip() # .strip() removes potential leading/trailing whitespace within the captured group\n",
    "\n",
    "        # Handle cases where the extracted string is empty\n",
    "        if not json_string:\n",
    "            print(f\"Skipping row {index}: Found JSON markers but content between them is empty.\")\n",
    "            continue\n",
    "\n",
    "        try:\n",
    "            # Parse the extracted JSON string\n",
    "            data = json.loads(json_string)\n",
    "\n",
    "            # Extract top-level data (use .get() for safety)\n",
    "            primary_subject = data.get('primary_subject')\n",
    "            target_entity = data.get('target_entity')\n",
    "            qa_pairs = data.get('generated_qa_pairs', [])\n",
    "\n",
    "            # Handle Multiple Q&A Pairs\n",
    "            if qa_pairs:\n",
    "                for qa_pair in qa_pairs:\n",
    "                     if isinstance(qa_pair, dict):\n",
    "                         question = qa_pair.get('question')\n",
    "                         answer = qa_pair.get('answer')\n",
    "                         processed_rows.append({\n",
    "                             'primary_subject': primary_subject,\n",
    "                             'target_entity': target_entity,\n",
    "                             'entity_question': question,\n",
    "                             'entity_answer': answer\n",
    "                         })\n",
    "                     else:\n",
    "                         print(f\"Skipping malformed QA pair in row {index}: {qa_pair}\")\n",
    "            else:\n",
    "                print(f\"Row {index} has no 'generated_qa_pairs'.\")\n",
    "                # Optionally add a row with None Q/A if needed:\n",
    "                # processed_rows.append({\n",
    "                #      'primary_subject': primary_subject,\n",
    "                #      'target_entity': target_entity,\n",
    "                #      'entity_question': None,\n",
    "                #      'entity_answer': None\n",
    "                # })\n",
    "\n",
    "        except json.JSONDecodeError:\n",
    "            print(f\"Skipping row {index}: Invalid JSON format inside the ```json ``` block.\")\n",
    "            # You could print the problematic json_string here for debugging:\n",
    "            # print(f\"Problematic JSON string:\\n{json_string}\")\n",
    "        except Exception as e:\n",
    "            print(f\"Skipping row {index}: An unexpected error occurred during processing - {e}\")\n",
    "\n",
    "    else:\n",
    "        # No JSON block found in the string\n",
    "        print(f\"Skipping row {index}: Could not find '```json ... ```' block.\")\n",
    "\n"
   ]
  },
  {
   "cell_type": "code",
   "execution_count": 58,
   "id": "8e906bf7",
   "metadata": {},
   "outputs": [],
   "source": [
    "new_df = pd.DataFrame(processed_rows)"
   ]
  },
  {
   "cell_type": "code",
   "execution_count": 61,
   "id": "24e9d9ba",
   "metadata": {},
   "outputs": [
    {
     "data": {
      "text/html": [
       "<div>\n",
       "<style scoped>\n",
       "    .dataframe tbody tr th:only-of-type {\n",
       "        vertical-align: middle;\n",
       "    }\n",
       "\n",
       "    .dataframe tbody tr th {\n",
       "        vertical-align: top;\n",
       "    }\n",
       "\n",
       "    .dataframe thead th {\n",
       "        text-align: right;\n",
       "    }\n",
       "</style>\n",
       "<table border=\"1\" class=\"dataframe\">\n",
       "  <thead>\n",
       "    <tr style=\"text-align: right;\">\n",
       "      <th></th>\n",
       "      <th>title</th>\n",
       "      <th>question</th>\n",
       "      <th>answer</th>\n",
       "      <th>paraphrased_question</th>\n",
       "      <th>wikipage</th>\n",
       "      <th>entity_questions</th>\n",
       "      <th>entity_question</th>\n",
       "      <th>entity_answer</th>\n",
       "    </tr>\n",
       "  </thead>\n",
       "  <tbody>\n",
       "    <tr>\n",
       "      <th>0</th>\n",
       "      <td>Benedetto Varchi</td>\n",
       "      <td>What nationality was Benedetto Varchi?</td>\n",
       "      <td>Italian</td>\n",
       "      <td>Which country was Benedetto Varchi from?</td>\n",
       "      <td>Benedetto Varchi (Italian pronunciation: [bene...</td>\n",
       "      <td>```json\\n{\\n  \"primary_subject\": \"Benedetto Va...</td>\n",
       "      <td>Which Italian city is known as the birthplace ...</td>\n",
       "      <td>Florence.</td>\n",
       "    </tr>\n",
       "    <tr>\n",
       "      <th>1</th>\n",
       "      <td>Benedetto Varchi</td>\n",
       "      <td>What nationality was Benedetto Varchi?</td>\n",
       "      <td>Italian</td>\n",
       "      <td>Which country was Benedetto Varchi from?</td>\n",
       "      <td>Benedetto Varchi (Italian pronunciation: [bene...</td>\n",
       "      <td>```json\\n{\\n  \"primary_subject\": \"Benedetto Va...</td>\n",
       "      <td>What is the name of the largest island in the ...</td>\n",
       "      <td>Lipari.</td>\n",
       "    </tr>\n",
       "    <tr>\n",
       "      <th>2</th>\n",
       "      <td>Benedetto Varchi</td>\n",
       "      <td>What nationality was Benedetto Varchi?</td>\n",
       "      <td>Italian</td>\n",
       "      <td>Which country was Benedetto Varchi from?</td>\n",
       "      <td>Benedetto Varchi (Italian pronunciation: [bene...</td>\n",
       "      <td>```json\\n{\\n  \"primary_subject\": \"Benedetto Va...</td>\n",
       "      <td>Which Italian lake is the largest lake in the ...</td>\n",
       "      <td>Lake Garda.</td>\n",
       "    </tr>\n",
       "    <tr>\n",
       "      <th>3</th>\n",
       "      <td>Benedetto Varchi</td>\n",
       "      <td>What professions did Benedetto Varchi have?</td>\n",
       "      <td>Humanist, historian, poet</td>\n",
       "      <td>What were the professions of Benedetto Varchi?</td>\n",
       "      <td>Benedetto Varchi (Italian pronunciation: [bene...</td>\n",
       "      <td>```json\\n{\\n  \"primary_subject\": \"Benedetto Va...</td>\n",
       "      <td>What is the primary focus of a humanist's study?</td>\n",
       "      <td>Human culture, particularly literature, histor...</td>\n",
       "    </tr>\n",
       "    <tr>\n",
       "      <th>4</th>\n",
       "      <td>Benedetto Varchi</td>\n",
       "      <td>What professions did Benedetto Varchi have?</td>\n",
       "      <td>Humanist, historian, poet</td>\n",
       "      <td>What were the professions of Benedetto Varchi?</td>\n",
       "      <td>Benedetto Varchi (Italian pronunciation: [bene...</td>\n",
       "      <td>```json\\n{\\n  \"primary_subject\": \"Benedetto Va...</td>\n",
       "      <td>What is the role of a historian in society?</td>\n",
       "      <td>To research, analyze, and interpret the past t...</td>\n",
       "    </tr>\n",
       "  </tbody>\n",
       "</table>\n",
       "</div>"
      ],
      "text/plain": [
       "              title                                     question  \\\n",
       "0  Benedetto Varchi       What nationality was Benedetto Varchi?   \n",
       "1  Benedetto Varchi       What nationality was Benedetto Varchi?   \n",
       "2  Benedetto Varchi       What nationality was Benedetto Varchi?   \n",
       "3  Benedetto Varchi  What professions did Benedetto Varchi have?   \n",
       "4  Benedetto Varchi  What professions did Benedetto Varchi have?   \n",
       "\n",
       "                      answer                            paraphrased_question  \\\n",
       "0                    Italian        Which country was Benedetto Varchi from?   \n",
       "1                    Italian        Which country was Benedetto Varchi from?   \n",
       "2                    Italian        Which country was Benedetto Varchi from?   \n",
       "3  Humanist, historian, poet  What were the professions of Benedetto Varchi?   \n",
       "4  Humanist, historian, poet  What were the professions of Benedetto Varchi?   \n",
       "\n",
       "                                            wikipage  \\\n",
       "0  Benedetto Varchi (Italian pronunciation: [bene...   \n",
       "1  Benedetto Varchi (Italian pronunciation: [bene...   \n",
       "2  Benedetto Varchi (Italian pronunciation: [bene...   \n",
       "3  Benedetto Varchi (Italian pronunciation: [bene...   \n",
       "4  Benedetto Varchi (Italian pronunciation: [bene...   \n",
       "\n",
       "                                    entity_questions  \\\n",
       "0  ```json\\n{\\n  \"primary_subject\": \"Benedetto Va...   \n",
       "1  ```json\\n{\\n  \"primary_subject\": \"Benedetto Va...   \n",
       "2  ```json\\n{\\n  \"primary_subject\": \"Benedetto Va...   \n",
       "3  ```json\\n{\\n  \"primary_subject\": \"Benedetto Va...   \n",
       "4  ```json\\n{\\n  \"primary_subject\": \"Benedetto Va...   \n",
       "\n",
       "                                     entity_question  \\\n",
       "0  Which Italian city is known as the birthplace ...   \n",
       "1  What is the name of the largest island in the ...   \n",
       "2  Which Italian lake is the largest lake in the ...   \n",
       "3   What is the primary focus of a humanist's study?   \n",
       "4        What is the role of a historian in society?   \n",
       "\n",
       "                                       entity_answer  \n",
       "0                                          Florence.  \n",
       "1                                            Lipari.  \n",
       "2                                        Lake Garda.  \n",
       "3  Human culture, particularly literature, histor...  \n",
       "4  To research, analyze, and interpret the past t...  "
      ]
     },
     "execution_count": 61,
     "metadata": {},
     "output_type": "execute_result"
    }
   ],
   "source": [
    "# Rename columns\n",
    "new_df = new_df.rename(columns={'primary_subject': 'title', 'target_entity': 'answer'})\n",
    "\n",
    "# Merge with final_df\n",
    "merged_df = pd.merge(final_df, new_df, on=['title', 'answer'], how='inner')\n"
   ]
  },
  {
   "cell_type": "code",
   "execution_count": 62,
   "id": "16e180eb",
   "metadata": {},
   "outputs": [],
   "source": [
    "merged_df = merged_df.rename(columns ={'question': 'forget_question', 'answer': 'forget_answer', 'entity_question': 'question', 'entity_answer': 'answer'})\n",
    "merged_df.drop(columns=['entity_questions', 'wikipage', 'paraphrased_question'], inplace=True)\n"
   ]
  },
  {
   "cell_type": "code",
   "execution_count": 64,
   "id": "abbe1b6e",
   "metadata": {},
   "outputs": [
    {
     "data": {
      "text/plain": [
       "(273, 5)"
      ]
     },
     "execution_count": 64,
     "metadata": {},
     "output_type": "execute_result"
    }
   ],
   "source": [
    "merged_df.shape"
   ]
  },
  {
   "cell_type": "code",
   "execution_count": null,
   "id": "28eb29f9",
   "metadata": {},
   "outputs": [],
   "source": [
    "merged_df.to_csv('entity_test_qa.csv', index = False)"
   ]
  },
  {
   "cell_type": "markdown",
   "id": "2ce525ab",
   "metadata": {},
   "source": [
    "### combining test_sets"
   ]
  },
  {
   "cell_type": "code",
   "execution_count": 68,
   "id": "1d77e252",
   "metadata": {},
   "outputs": [],
   "source": [
    "entity_test_qa = pd.read_csv('entity_test_qa.csv')\n",
    "domain_test_qa = pd.read_csv('domain_test_qa.csv')"
   ]
  },
  {
   "cell_type": "code",
   "execution_count": 73,
   "id": "b36ea566",
   "metadata": {},
   "outputs": [
    {
     "data": {
      "text/html": [
       "<div>\n",
       "<style scoped>\n",
       "    .dataframe tbody tr th:only-of-type {\n",
       "        vertical-align: middle;\n",
       "    }\n",
       "\n",
       "    .dataframe tbody tr th {\n",
       "        vertical-align: top;\n",
       "    }\n",
       "\n",
       "    .dataframe thead th {\n",
       "        text-align: right;\n",
       "    }\n",
       "</style>\n",
       "<table border=\"1\" class=\"dataframe\">\n",
       "  <thead>\n",
       "    <tr style=\"text-align: right;\">\n",
       "      <th></th>\n",
       "      <th>title</th>\n",
       "      <th>SimilarName</th>\n",
       "      <th>content</th>\n",
       "      <th>question</th>\n",
       "      <th>answer</th>\n",
       "      <th>section</th>\n",
       "      <th>difficulty</th>\n",
       "    </tr>\n",
       "  </thead>\n",
       "  <tbody>\n",
       "    <tr>\n",
       "      <th>0</th>\n",
       "      <td>Benedetto Varchi</td>\n",
       "      <td>Leonardo Bruni</td>\n",
       "      <td>Leonardo Bruni[a] or Leonardo Aretino (c. 1370...</td>\n",
       "      <td>When was Leonardo Bruni born?</td>\n",
       "      <td>circa 1370</td>\n",
       "      <td>Birth and Early Life</td>\n",
       "      <td>Easy</td>\n",
       "    </tr>\n",
       "    <tr>\n",
       "      <th>1</th>\n",
       "      <td>Wilhelm Wattenbach</td>\n",
       "      <td>Friedrich Meinecke</td>\n",
       "      <td>Friedrich Meinecke (October 20, 1862 – Februar...</td>\n",
       "      <td>When was Friedrich Meinecke born?</td>\n",
       "      <td>October 20, 1862</td>\n",
       "      <td>Early Life</td>\n",
       "      <td>Easy</td>\n",
       "    </tr>\n",
       "    <tr>\n",
       "      <th>2</th>\n",
       "      <td>Wilhelm Wattenbach</td>\n",
       "      <td>Friedrich Meinecke</td>\n",
       "      <td>Friedrich Meinecke (October 20, 1862 – Februar...</td>\n",
       "      <td>Where was Friedrich Meinecke born?</td>\n",
       "      <td>Salzwedel in the Province of Saxony</td>\n",
       "      <td>Early Life</td>\n",
       "      <td>Easy</td>\n",
       "    </tr>\n",
       "    <tr>\n",
       "      <th>3</th>\n",
       "      <td>Wilhelm Wattenbach</td>\n",
       "      <td>Friedrich Meinecke</td>\n",
       "      <td>Friedrich Meinecke (October 20, 1862 – Februar...</td>\n",
       "      <td>What was the name of the school Friedrich Mein...</td>\n",
       "      <td>Köllnische Gymnasium</td>\n",
       "      <td>Education</td>\n",
       "      <td>Medium</td>\n",
       "    </tr>\n",
       "    <tr>\n",
       "      <th>4</th>\n",
       "      <td>Wilhelm Wattenbach</td>\n",
       "      <td>Friedrich Meinecke</td>\n",
       "      <td>Friedrich Meinecke (October 20, 1862 – Februar...</td>\n",
       "      <td>Which universities did Friedrich Meinecke attend?</td>\n",
       "      <td>University of Bonn and the Friedrich Wilhelm U...</td>\n",
       "      <td>Education</td>\n",
       "      <td>Medium</td>\n",
       "    </tr>\n",
       "  </tbody>\n",
       "</table>\n",
       "</div>"
      ],
      "text/plain": [
       "                title         SimilarName  \\\n",
       "0    Benedetto Varchi      Leonardo Bruni   \n",
       "1  Wilhelm Wattenbach  Friedrich Meinecke   \n",
       "2  Wilhelm Wattenbach  Friedrich Meinecke   \n",
       "3  Wilhelm Wattenbach  Friedrich Meinecke   \n",
       "4  Wilhelm Wattenbach  Friedrich Meinecke   \n",
       "\n",
       "                                             content  \\\n",
       "0  Leonardo Bruni[a] or Leonardo Aretino (c. 1370...   \n",
       "1  Friedrich Meinecke (October 20, 1862 – Februar...   \n",
       "2  Friedrich Meinecke (October 20, 1862 – Februar...   \n",
       "3  Friedrich Meinecke (October 20, 1862 – Februar...   \n",
       "4  Friedrich Meinecke (October 20, 1862 – Februar...   \n",
       "\n",
       "                                            question  \\\n",
       "0                      When was Leonardo Bruni born?   \n",
       "1                  When was Friedrich Meinecke born?   \n",
       "2                 Where was Friedrich Meinecke born?   \n",
       "3  What was the name of the school Friedrich Mein...   \n",
       "4  Which universities did Friedrich Meinecke attend?   \n",
       "\n",
       "                                              answer               section  \\\n",
       "0                                         circa 1370  Birth and Early Life   \n",
       "1                                   October 20, 1862            Early Life   \n",
       "2                Salzwedel in the Province of Saxony            Early Life   \n",
       "3                               Köllnische Gymnasium             Education   \n",
       "4  University of Bonn and the Friedrich Wilhelm U...             Education   \n",
       "\n",
       "  difficulty  \n",
       "0       Easy  \n",
       "1       Easy  \n",
       "2       Easy  \n",
       "3     Medium  \n",
       "4     Medium  "
      ]
     },
     "execution_count": 73,
     "metadata": {},
     "output_type": "execute_result"
    }
   ],
   "source": [
    "domain_test_qa.head()"
   ]
  },
  {
   "cell_type": "code",
   "execution_count": 72,
   "id": "ede3922c",
   "metadata": {},
   "outputs": [
    {
     "data": {
      "text/html": [
       "<div>\n",
       "<style scoped>\n",
       "    .dataframe tbody tr th:only-of-type {\n",
       "        vertical-align: middle;\n",
       "    }\n",
       "\n",
       "    .dataframe tbody tr th {\n",
       "        vertical-align: top;\n",
       "    }\n",
       "\n",
       "    .dataframe thead th {\n",
       "        text-align: right;\n",
       "    }\n",
       "</style>\n",
       "<table border=\"1\" class=\"dataframe\">\n",
       "  <thead>\n",
       "    <tr style=\"text-align: right;\">\n",
       "      <th></th>\n",
       "      <th>title</th>\n",
       "      <th>SimilarName</th>\n",
       "      <th>content</th>\n",
       "      <th>question</th>\n",
       "      <th>answer</th>\n",
       "      <th>section</th>\n",
       "      <th>difficulty</th>\n",
       "    </tr>\n",
       "  </thead>\n",
       "  <tbody>\n",
       "    <tr>\n",
       "      <th>0</th>\n",
       "      <td>Benedetto Varchi</td>\n",
       "      <td>Giovanni Boccaccio</td>\n",
       "      <td>Giovanni Boccaccio (UK: /bəˈkætʃioʊ/ bə-KATCH-...</td>\n",
       "      <td>When was Giovanni Boccaccio born?</td>\n",
       "      <td>16 June 1313</td>\n",
       "      <td>Birth and Family Background</td>\n",
       "      <td>Easy</td>\n",
       "    </tr>\n",
       "    <tr>\n",
       "      <th>1</th>\n",
       "      <td>Benedetto Varchi</td>\n",
       "      <td>Giovanni Boccaccio</td>\n",
       "      <td>Giovanni Boccaccio (UK: /bəˈkætʃioʊ/ bə-KATCH-...</td>\n",
       "      <td>Where was Giovanni Boccaccio born?</td>\n",
       "      <td>Florence or a village near Certaldo</td>\n",
       "      <td>Birth and Family Background</td>\n",
       "      <td>Medium</td>\n",
       "    </tr>\n",
       "    <tr>\n",
       "      <th>2</th>\n",
       "      <td>Benedetto Varchi</td>\n",
       "      <td>Giovanni Boccaccio</td>\n",
       "      <td>Giovanni Boccaccio (UK: /bəˈkætʃioʊ/ bə-KATCH-...</td>\n",
       "      <td>Who was Giovanni Boccaccio's father?</td>\n",
       "      <td>Boccaccino di Chellino</td>\n",
       "      <td>Family Background</td>\n",
       "      <td>Easy</td>\n",
       "    </tr>\n",
       "    <tr>\n",
       "      <th>3</th>\n",
       "      <td>Benedetto Varchi</td>\n",
       "      <td>Giovanni Boccaccio</td>\n",
       "      <td>Giovanni Boccaccio (UK: /bəˈkætʃioʊ/ bə-KATCH-...</td>\n",
       "      <td>What was the name of Giovanni Boccaccio's step...</td>\n",
       "      <td>Margherita de' Mardoli</td>\n",
       "      <td>Family Background</td>\n",
       "      <td>Medium</td>\n",
       "    </tr>\n",
       "    <tr>\n",
       "      <th>4</th>\n",
       "      <td>Benedetto Varchi</td>\n",
       "      <td>Giovanni Boccaccio</td>\n",
       "      <td>Giovanni Boccaccio (UK: /bəˈkætʃioʊ/ bə-KATCH-...</td>\n",
       "      <td>Where did Giovanni Boccaccio grow up?</td>\n",
       "      <td>Florence</td>\n",
       "      <td>Early Life</td>\n",
       "      <td>Easy</td>\n",
       "    </tr>\n",
       "  </tbody>\n",
       "</table>\n",
       "</div>"
      ],
      "text/plain": [
       "              title         SimilarName  \\\n",
       "0  Benedetto Varchi  Giovanni Boccaccio   \n",
       "1  Benedetto Varchi  Giovanni Boccaccio   \n",
       "2  Benedetto Varchi  Giovanni Boccaccio   \n",
       "3  Benedetto Varchi  Giovanni Boccaccio   \n",
       "4  Benedetto Varchi  Giovanni Boccaccio   \n",
       "\n",
       "                                             content  \\\n",
       "0  Giovanni Boccaccio (UK: /bəˈkætʃioʊ/ bə-KATCH-...   \n",
       "1  Giovanni Boccaccio (UK: /bəˈkætʃioʊ/ bə-KATCH-...   \n",
       "2  Giovanni Boccaccio (UK: /bəˈkætʃioʊ/ bə-KATCH-...   \n",
       "3  Giovanni Boccaccio (UK: /bəˈkætʃioʊ/ bə-KATCH-...   \n",
       "4  Giovanni Boccaccio (UK: /bəˈkætʃioʊ/ bə-KATCH-...   \n",
       "\n",
       "                                            question  \\\n",
       "0                  When was Giovanni Boccaccio born?   \n",
       "1                 Where was Giovanni Boccaccio born?   \n",
       "2               Who was Giovanni Boccaccio's father?   \n",
       "3  What was the name of Giovanni Boccaccio's step...   \n",
       "4              Where did Giovanni Boccaccio grow up?   \n",
       "\n",
       "                                answer                      section difficulty  \n",
       "0                         16 June 1313  Birth and Family Background       Easy  \n",
       "1  Florence or a village near Certaldo  Birth and Family Background     Medium  \n",
       "2               Boccaccino di Chellino            Family Background       Easy  \n",
       "3               Margherita de' Mardoli            Family Background     Medium  \n",
       "4                             Florence                   Early Life       Easy  "
      ]
     },
     "execution_count": 72,
     "metadata": {},
     "output_type": "execute_result"
    }
   ],
   "source": [
    "all_domain = pd.read_csv('/home/praveen/theoden/emnlp_25/dataset/domain_qa.csv')\n",
    "\n",
    "all_domain.head()"
   ]
  },
  {
   "cell_type": "code",
   "execution_count": 74,
   "id": "4d393bbe",
   "metadata": {},
   "outputs": [
    {
     "data": {
      "text/html": [
       "<div>\n",
       "<style scoped>\n",
       "    .dataframe tbody tr th:only-of-type {\n",
       "        vertical-align: middle;\n",
       "    }\n",
       "\n",
       "    .dataframe tbody tr th {\n",
       "        vertical-align: top;\n",
       "    }\n",
       "\n",
       "    .dataframe thead th {\n",
       "        text-align: right;\n",
       "    }\n",
       "</style>\n",
       "<table border=\"1\" class=\"dataframe\">\n",
       "  <thead>\n",
       "    <tr style=\"text-align: right;\">\n",
       "      <th></th>\n",
       "      <th>title</th>\n",
       "      <th>SimilarName</th>\n",
       "      <th>content</th>\n",
       "      <th>question</th>\n",
       "      <th>answer</th>\n",
       "      <th>section</th>\n",
       "      <th>difficulty</th>\n",
       "    </tr>\n",
       "  </thead>\n",
       "  <tbody>\n",
       "    <tr>\n",
       "      <th>29</th>\n",
       "      <td>Benedetto Varchi</td>\n",
       "      <td>Leonardo Bruni</td>\n",
       "      <td>Leonardo Bruni[a] or Leonardo Aretino (c. 1370...</td>\n",
       "      <td>When was Leonardo Bruni born?</td>\n",
       "      <td>circa 1370</td>\n",
       "      <td>Birth and Early Life</td>\n",
       "      <td>Easy</td>\n",
       "    </tr>\n",
       "  </tbody>\n",
       "</table>\n",
       "</div>"
      ],
      "text/plain": [
       "               title     SimilarName  \\\n",
       "29  Benedetto Varchi  Leonardo Bruni   \n",
       "\n",
       "                                              content  \\\n",
       "29  Leonardo Bruni[a] or Leonardo Aretino (c. 1370...   \n",
       "\n",
       "                         question      answer               section difficulty  \n",
       "29  When was Leonardo Bruni born?  circa 1370  Birth and Early Life       Easy  "
      ]
     },
     "execution_count": 74,
     "metadata": {},
     "output_type": "execute_result"
    }
   ],
   "source": [
    "all_domain.loc[all_domain['SimilarName'] == 'Leonardo Bruni']"
   ]
  },
  {
   "cell_type": "code",
   "execution_count": 84,
   "id": "7071689a",
   "metadata": {},
   "outputs": [
    {
     "name": "stdout",
     "output_type": "stream",
     "text": [
      "                                  title               SimilarName  question\n",
      "1                      Adrienne Monnier              Djuna Barnes        20\n",
      "4                      Adrienne Monnier              Sylvia Beach        20\n",
      "55                        Heinz Erhardt            Harald Schmidt        20\n",
      "97                       Siegfried Lenz  Hans Magnus Enzensberger        20\n",
      "48                      Heinrich Ritter       Arthur Schopenhauer        19\n",
      "..                                  ...                       ...       ...\n",
      "65                        Jorge Semprún        Vicente Aleixandre         1\n",
      "103                          Ted Kooser                 Joy Harjo         1\n",
      "101                      Siegfried Lenz          Wolfgang Koeppen         1\n",
      "89   Philip Stanhope, 5th Earl Stanhope            William Stubbs         1\n",
      "105                          Ted Kooser                 Mark Doty         1\n",
      "\n",
      "[120 rows x 3 columns]\n"
     ]
    }
   ],
   "source": [
    "# Group by both title and SimilarName, count questions, and reset index to make it a readable DataFrame\n",
    "grouped_counts = all_domain.groupby(['title', 'SimilarName'])['question'].count().reset_index()\n",
    "\n",
    "# Sort by count in descending order to see highest counts first\n",
    "grouped_counts = grouped_counts.sort_values('question', ascending=False)"
   ]
  },
  {
   "cell_type": "code",
   "execution_count": 93,
   "id": "db1d72fb",
   "metadata": {},
   "outputs": [],
   "source": [
    "entity_test_qa.drop(columns = ['forget_question', 'forget_answer'], inplace = True)\n",
    "domain_test_qa.drop(columns = ['SimilarName', 'content', 'section', 'difficulty'], inplace = True)"
   ]
  },
  {
   "cell_type": "code",
   "execution_count": 96,
   "id": "81af4646",
   "metadata": {},
   "outputs": [],
   "source": [
    "domain_test_qa['type'] = 'domain'\n",
    "entity_test_qa['type'] = 'entity'"
   ]
  },
  {
   "cell_type": "code",
   "execution_count": 101,
   "id": "34d91215",
   "metadata": {},
   "outputs": [],
   "source": [
    "full_test_set = pd.concat([domain_test_qa, entity_test_qa], ignore_index=True).sort_values(by='title').reset_index(drop=True)"
   ]
  },
  {
   "cell_type": "code",
   "execution_count": 103,
   "id": "b2e73844",
   "metadata": {},
   "outputs": [],
   "source": [
    "full_test_set.to_csv('full_test_set.csv', index = False)"
   ]
  },
  {
   "cell_type": "markdown",
   "id": "f765f3d8",
   "metadata": {},
   "source": [
    "### combining retain_sets"
   ]
  },
  {
   "cell_type": "code",
   "execution_count": 9,
   "id": "f190bebd",
   "metadata": {},
   "outputs": [],
   "source": [
    "domain_retain_qa = pd.read_csv('domain_retain_qa.csv')\n",
    "entity_retain_qa = pd.read_parquet(\"hf://datasets/Shiyu-Lab/Wikipedia_Person_Unlearn/forget_20_1_hard_retain/train-00000-of-00001.parquet\")"
   ]
  },
  {
   "cell_type": "code",
   "execution_count": null,
   "id": "60269414",
   "metadata": {},
   "outputs": [],
   "source": [
    "domain_retain_qa.drop(columns = ['SimilarName', 'content', 'section', 'difficulty'], inplace = True)\n"
   ]
  },
  {
   "cell_type": "code",
   "execution_count": 15,
   "id": "c2a9c61c",
   "metadata": {},
   "outputs": [],
   "source": [
    "domain_retain_qa['type'] = 'domain'\n",
    "entity_retain_qa['type'] = 'entity'\n",
    "full_retain_qa = pd.concat([domain_retain_qa, entity_retain_qa], ignore_index=True).sort_values(by='title').reset_index(drop=True)"
   ]
  },
  {
   "cell_type": "code",
   "execution_count": 18,
   "id": "0b49e09a",
   "metadata": {},
   "outputs": [
    {
     "data": {
      "text/plain": [
       "type\n",
       "domain    1144\n",
       "entity     364\n",
       "Name: count, dtype: int64"
      ]
     },
     "execution_count": 18,
     "metadata": {},
     "output_type": "execute_result"
    }
   ],
   "source": [
    "full_retain_qa['type'].value_counts()"
   ]
  },
  {
   "cell_type": "code",
   "execution_count": 19,
   "id": "5f17c081",
   "metadata": {},
   "outputs": [],
   "source": [
    "full_retain_qa.to_csv('full_retain_qa.csv', index = False)"
   ]
  },
  {
   "cell_type": "markdown",
   "id": "24ad7c47",
   "metadata": {},
   "source": [
    "### combining general set with retain and test set"
   ]
  },
  {
   "cell_type": "code",
   "execution_count": 16,
   "id": "5c27bb87",
   "metadata": {},
   "outputs": [],
   "source": [
    "retain_qa = pd.read_csv('full_retain_qa.csv')\n",
    "test_set = pd.read_csv('full_test_set.csv')"
   ]
  },
  {
   "cell_type": "code",
   "execution_count": 4,
   "id": "e018f9ee",
   "metadata": {},
   "outputs": [],
   "source": [
    "general_set = pd.read_parquet(\"hf://datasets/Shiyu-Lab/Wikipedia_Person_Unlearn/general_retain/train-00000-of-00001.parquet\")"
   ]
  },
  {
   "cell_type": "code",
   "execution_count": 9,
   "id": "eebf0e74",
   "metadata": {},
   "outputs": [],
   "source": [
    "general_set['type'] = 'general'"
   ]
  },
  {
   "cell_type": "code",
   "execution_count": 17,
   "id": "a3bdd9df",
   "metadata": {},
   "outputs": [],
   "source": [
    "test_general = general_set[:200]\n",
    "retain_general = general_set[200:]"
   ]
  },
  {
   "cell_type": "code",
   "execution_count": 18,
   "id": "62e3e45d",
   "metadata": {},
   "outputs": [],
   "source": [
    "full_test_set = pd.concat([test_set, test_general], ignore_index=True).sort_values(by='title').reset_index(drop=True)\n",
    "full_retain_qa = pd.concat([retain_qa, retain_general], ignore_index=True).sort_values(by='title').reset_index(drop=True)\n"
   ]
  },
  {
   "cell_type": "code",
   "execution_count": 19,
   "id": "c22e84f8",
   "metadata": {},
   "outputs": [
    {
     "data": {
      "text/plain": [
       "type\n",
       "entity     273\n",
       "domain     265\n",
       "general    200\n",
       "Name: count, dtype: int64"
      ]
     },
     "execution_count": 19,
     "metadata": {},
     "output_type": "execute_result"
    }
   ],
   "source": [
    "full_test_set['type'].value_counts()"
   ]
  },
  {
   "cell_type": "code",
   "execution_count": 20,
   "id": "51f6ab12",
   "metadata": {},
   "outputs": [
    {
     "data": {
      "text/plain": [
       "type\n",
       "domain     1144\n",
       "entity      364\n",
       "general     293\n",
       "Name: count, dtype: int64"
      ]
     },
     "execution_count": 20,
     "metadata": {},
     "output_type": "execute_result"
    }
   ],
   "source": [
    "full_retain_qa['type'].value_counts()"
   ]
  },
  {
   "cell_type": "code",
   "execution_count": 21,
   "id": "ceba51cc",
   "metadata": {},
   "outputs": [],
   "source": [
    "full_test_set.to_csv('full_test_set.csv', index = False)\n",
    "full_retain_qa.to_csv('full_retain_qa.csv', index = False)"
   ]
  },
  {
   "cell_type": "code",
   "execution_count": 2,
   "id": "2b8c5461",
   "metadata": {},
   "outputs": [],
   "source": [
    "test_set = pd.read_csv('full_test_set.csv')\n"
   ]
  },
  {
   "cell_type": "code",
   "execution_count": 8,
   "id": "2c4cfda4",
   "metadata": {},
   "outputs": [],
   "source": [
    "am = test_set.loc[(test_set['title'] == 'Adrienne Monnier') & (test_set['type'] == 'entity')]"
   ]
  },
  {
   "cell_type": "code",
   "execution_count": 11,
   "id": "b19deb93",
   "metadata": {},
   "outputs": [
    {
     "data": {
      "text/html": [
       "<div>\n",
       "<style scoped>\n",
       "    .dataframe tbody tr th:only-of-type {\n",
       "        vertical-align: middle;\n",
       "    }\n",
       "\n",
       "    .dataframe tbody tr th {\n",
       "        vertical-align: top;\n",
       "    }\n",
       "\n",
       "    .dataframe thead th {\n",
       "        text-align: right;\n",
       "    }\n",
       "</style>\n",
       "<table border=\"1\" class=\"dataframe\">\n",
       "  <thead>\n",
       "    <tr style=\"text-align: right;\">\n",
       "      <th></th>\n",
       "      <th>title</th>\n",
       "      <th>question</th>\n",
       "      <th>answer</th>\n",
       "      <th>type</th>\n",
       "    </tr>\n",
       "  </thead>\n",
       "  <tbody>\n",
       "    <tr>\n",
       "      <th>12</th>\n",
       "      <td>Adrienne Monnier</td>\n",
       "      <td>What is the primary role of a bookseller in a ...</td>\n",
       "      <td>To provide access to books and literary resour...</td>\n",
       "      <td>entity</td>\n",
       "    </tr>\n",
       "    <tr>\n",
       "      <th>13</th>\n",
       "      <td>Adrienne Monnier</td>\n",
       "      <td>What is the main function of a publisher in th...</td>\n",
       "      <td>To oversee the production and distribution of ...</td>\n",
       "      <td>entity</td>\n",
       "    </tr>\n",
       "    <tr>\n",
       "      <th>15</th>\n",
       "      <td>Adrienne Monnier</td>\n",
       "      <td>Which style of music gained popularity during ...</td>\n",
       "      <td>Jazz.</td>\n",
       "      <td>entity</td>\n",
       "    </tr>\n",
       "    <tr>\n",
       "      <th>19</th>\n",
       "      <td>Adrienne Monnier</td>\n",
       "      <td>What significant economic event occurred in 1929?</td>\n",
       "      <td>The Wall Street Crash.</td>\n",
       "      <td>entity</td>\n",
       "    </tr>\n",
       "    <tr>\n",
       "      <th>21</th>\n",
       "      <td>Adrienne Monnier</td>\n",
       "      <td>What is the difference between a writer and an...</td>\n",
       "      <td>While often used interchangeably, a writer is ...</td>\n",
       "      <td>entity</td>\n",
       "    </tr>\n",
       "    <tr>\n",
       "      <th>23</th>\n",
       "      <td>Adrienne Monnier</td>\n",
       "      <td>In which city is the original Shakespeare and ...</td>\n",
       "      <td>Paris.</td>\n",
       "      <td>entity</td>\n",
       "    </tr>\n",
       "    <tr>\n",
       "      <th>24</th>\n",
       "      <td>Adrienne Monnier</td>\n",
       "      <td>Who is the current owner of the Shakespeare an...</td>\n",
       "      <td>Sylvia Whitman.</td>\n",
       "      <td>entity</td>\n",
       "    </tr>\n",
       "    <tr>\n",
       "      <th>25</th>\n",
       "      <td>Adrienne Monnier</td>\n",
       "      <td>What famous author was a frequent visitor to S...</td>\n",
       "      <td>Ernest Hemingway.</td>\n",
       "      <td>entity</td>\n",
       "    </tr>\n",
       "    <tr>\n",
       "      <th>29</th>\n",
       "      <td>Adrienne Monnier</td>\n",
       "      <td>What is the name of the iconic tower in Paris,...</td>\n",
       "      <td>The Eiffel Tower.</td>\n",
       "      <td>entity</td>\n",
       "    </tr>\n",
       "    <tr>\n",
       "      <th>38</th>\n",
       "      <td>Adrienne Monnier</td>\n",
       "      <td>What is the name of the famous art museum in P...</td>\n",
       "      <td>The Louvre.</td>\n",
       "      <td>entity</td>\n",
       "    </tr>\n",
       "    <tr>\n",
       "      <th>39</th>\n",
       "      <td>Adrienne Monnier</td>\n",
       "      <td>Which river runs through the city of Paris?</td>\n",
       "      <td>The Seine.</td>\n",
       "      <td>entity</td>\n",
       "    </tr>\n",
       "    <tr>\n",
       "      <th>40</th>\n",
       "      <td>Adrienne Monnier</td>\n",
       "      <td>What was the name of the severe dust storm tha...</td>\n",
       "      <td>The Dust Bowl.</td>\n",
       "      <td>entity</td>\n",
       "    </tr>\n",
       "  </tbody>\n",
       "</table>\n",
       "</div>"
      ],
      "text/plain": [
       "               title                                           question  \\\n",
       "12  Adrienne Monnier  What is the primary role of a bookseller in a ...   \n",
       "13  Adrienne Monnier  What is the main function of a publisher in th...   \n",
       "15  Adrienne Monnier  Which style of music gained popularity during ...   \n",
       "19  Adrienne Monnier  What significant economic event occurred in 1929?   \n",
       "21  Adrienne Monnier  What is the difference between a writer and an...   \n",
       "23  Adrienne Monnier  In which city is the original Shakespeare and ...   \n",
       "24  Adrienne Monnier  Who is the current owner of the Shakespeare an...   \n",
       "25  Adrienne Monnier  What famous author was a frequent visitor to S...   \n",
       "29  Adrienne Monnier  What is the name of the iconic tower in Paris,...   \n",
       "38  Adrienne Monnier  What is the name of the famous art museum in P...   \n",
       "39  Adrienne Monnier        Which river runs through the city of Paris?   \n",
       "40  Adrienne Monnier  What was the name of the severe dust storm tha...   \n",
       "\n",
       "                                               answer    type  \n",
       "12  To provide access to books and literary resour...  entity  \n",
       "13  To oversee the production and distribution of ...  entity  \n",
       "15                                              Jazz.  entity  \n",
       "19                             The Wall Street Crash.  entity  \n",
       "21  While often used interchangeably, a writer is ...  entity  \n",
       "23                                             Paris.  entity  \n",
       "24                                    Sylvia Whitman.  entity  \n",
       "25                                  Ernest Hemingway.  entity  \n",
       "29                                  The Eiffel Tower.  entity  \n",
       "38                                        The Louvre.  entity  \n",
       "39                                         The Seine.  entity  \n",
       "40                                     The Dust Bowl.  entity  "
      ]
     },
     "execution_count": 11,
     "metadata": {},
     "output_type": "execute_result"
    }
   ],
   "source": [
    "am.head(30)"
   ]
  },
  {
   "cell_type": "code",
   "execution_count": 12,
   "id": "114f79cc",
   "metadata": {},
   "outputs": [
    {
     "name": "stdout",
     "output_type": "stream",
     "text": [
      "What is the name of the iconic tower in Paris, built for the 1889 World's Fair?\n",
      "What is the name of the famous art museum in Paris that houses the Mona Lisa?\n",
      "Which river runs through the city of Paris?\n"
     ]
    }
   ],
   "source": [
    "print(am['question'][29])\n",
    "print(am['question'][38])\n",
    "print(am['question'][39])"
   ]
  },
  {
   "cell_type": "code",
   "execution_count": 13,
   "id": "2044b9e8",
   "metadata": {},
   "outputs": [
    {
     "name": "stdout",
     "output_type": "stream",
     "text": [
      "The Eiffel Tower.\n",
      "The Louvre.\n",
      "The Seine.\n"
     ]
    }
   ],
   "source": [
    "print(am['answer'][29])\n",
    "print(am['answer'][38])\n",
    "print(am['answer'][39])"
   ]
  },
  {
   "cell_type": "code",
   "execution_count": 9,
   "id": "cba9edeb",
   "metadata": {},
   "outputs": [],
   "source": [
    "from perplexity import Perplexity_QA_from_df"
   ]
  },
  {
   "cell_type": "code",
   "execution_count": 4,
   "id": "8faee3ad",
   "metadata": {},
   "outputs": [],
   "source": [
    "test_set = pd.read_csv('full_test_set.csv')"
   ]
  },
  {
   "cell_type": "code",
   "execution_count": 5,
   "id": "3893c20b",
   "metadata": {},
   "outputs": [],
   "source": [
    "test = test_set[:10]"
   ]
  },
  {
   "cell_type": "code",
   "execution_count": 3,
   "id": "07977624",
   "metadata": {},
   "outputs": [],
   "source": [
    "from transformers import AutoTokenizer, AutoModelForCausalLM"
   ]
  },
  {
   "cell_type": "code",
   "execution_count": 2,
   "id": "245baab8",
   "metadata": {},
   "outputs": [],
   "source": [
    "import os\n",
    "os.environ['CUDA_VISIBLE_DEVICES'] = '2'"
   ]
  },
  {
   "cell_type": "code",
   "execution_count": 6,
   "id": "dd01900f",
   "metadata": {},
   "outputs": [
    {
     "data": {
      "application/vnd.jupyter.widget-view+json": {
       "model_id": "fd8dcd92e05846bd95888848195c99bd",
       "version_major": 2,
       "version_minor": 0
      },
      "text/plain": [
       "Loading checkpoint shards:   0%|          | 0/4 [00:00<?, ?it/s]"
      ]
     },
     "metadata": {},
     "output_type": "display_data"
    }
   ],
   "source": [
    "tokenizer = AutoTokenizer.from_pretrained(\"meta-llama/Meta-Llama-3.1-8B-Instruct\")\n",
    "model = AutoModelForCausalLM.from_pretrained(\"meta-llama/Meta-Llama-3.1-8B-Instruct\", device_map=\"auto\", torch_dtype=\"bfloat16\")"
   ]
  },
  {
   "cell_type": "code",
   "execution_count": 7,
   "id": "7b63e97f",
   "metadata": {},
   "outputs": [],
   "source": [
    "device = 'cuda'"
   ]
  },
  {
   "cell_type": "code",
   "execution_count": 14,
   "id": "7f6bcf0a",
   "metadata": {},
   "outputs": [],
   "source": [
    "test.to_csv('small_test.csv', index = False)"
   ]
  },
  {
   "cell_type": "code",
   "execution_count": 10,
   "id": "e72c8f35",
   "metadata": {},
   "outputs": [
    {
     "name": "stdout",
     "output_type": "stream",
     "text": [
      "Loading data from: /home/praveen/theoden/emnlp_25/small_test.csv\n",
      "Preparing inputs...\n",
      "Calculating perplexity with batch size 32...\n"
     ]
    },
    {
     "data": {
      "application/vnd.jupyter.widget-view+json": {
       "model_id": "4bbd80ab039b46b5972bc72acf645d71",
       "version_major": 2,
       "version_minor": 0
      },
      "text/plain": [
       "Calculating Perplexity:   0%|          | 0/1 [00:00<?, ?it/s]"
      ]
     },
     "metadata": {},
     "output_type": "display_data"
    },
    {
     "name": "stdout",
     "output_type": "stream",
     "text": [
      "Total Loss: 101.0606, Total Tokens: 34\n",
      "Average Loss: 2.9724, Perplexity: 19.5382\n",
      "\n",
      "Test set Perplexity 19.53816795349121\n"
     ]
    },
    {
     "name": "stderr",
     "output_type": "stream",
     "text": [
      "/home/praveen/theoden/emnlp_25/perplexity.py:175: UserWarning: To copy construct from a tensor, it is recommended to use sourceTensor.clone().detach() or sourceTensor.clone().detach().requires_grad_(True), rather than torch.tensor(sourceTensor).\n",
      "  perplexity = torch.exp(torch.tensor(average_loss)).item() # Use .item() to get float\n"
     ]
    }
   ],
   "source": [
    "qa_perplexity_test, _ = Perplexity_QA_from_df(\n",
    "    model = model,\n",
    "    df_path = '/home/praveen/theoden/emnlp_25/small_test.csv',\n",
    "    tokenizer =tokenizer,\n",
    "    max_length =512,\n",
    "    batch_size = 32,\n",
    "    device = device\n",
    ")\n",
    "print('\\nTest set Perplexity',qa_perplexity_test)"
   ]
  },
  {
   "cell_type": "code",
   "execution_count": 11,
   "id": "aacfb103",
   "metadata": {},
   "outputs": [],
   "source": [
    "results = {'perplex':qa_perplexity_test}"
   ]
  },
  {
   "cell_type": "code",
   "execution_count": 2,
   "id": "dc403714",
   "metadata": {},
   "outputs": [],
   "source": [
    "df = pd.read_parquet(\"hf://datasets/Shiyu-Lab/Wikipedia_Person_Unlearn/forget_20_1/train-00000-of-00001.parquet\")"
   ]
  },
  {
   "cell_type": "code",
   "execution_count": 3,
   "id": "c961b09b",
   "metadata": {},
   "outputs": [],
   "source": [
    "forget_sample = df[:30]"
   ]
  },
  {
   "cell_type": "code",
   "execution_count": 4,
   "id": "298ddda8",
   "metadata": {},
   "outputs": [],
   "source": [
    "forget_sample.to_csv('forget_sample.csv', index = False)"
   ]
  },
  {
   "cell_type": "code",
   "execution_count": null,
   "id": "0293f663",
   "metadata": {},
   "outputs": [],
   "source": []
  }
 ],
 "metadata": {
  "kernelspec": {
   "display_name": "emnlp",
   "language": "python",
   "name": "python3"
  },
  "language_info": {
   "codemirror_mode": {
    "name": "ipython",
    "version": 3
   },
   "file_extension": ".py",
   "mimetype": "text/x-python",
   "name": "python",
   "nbconvert_exporter": "python",
   "pygments_lexer": "ipython3",
   "version": "3.11.0"
  }
 },
 "nbformat": 4,
 "nbformat_minor": 5
}
