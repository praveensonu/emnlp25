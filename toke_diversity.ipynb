{
 "cells": [
  {
   "cell_type": "code",
   "execution_count": 4,
   "id": "a4720b58",
   "metadata": {},
   "outputs": [],
   "source": [
    "import os\n",
    "import json\n",
    "import pandas as pd\n",
    "from typing import List"
   ]
  },
  {
   "cell_type": "code",
   "execution_count": 5,
   "id": "7ba46c9b",
   "metadata": {},
   "outputs": [],
   "source": [
    "def distinct_n(sentences: List[str], n: int = 1) -> float:\n",
    "    \"\"\"\n",
    "    Compute Distinct-N for a list of generated sentences.\n",
    "\n",
    "    Args:\n",
    "        sentences (List[str]): A list of generated text strings.\n",
    "        n (int): The n-gram size (e.g. 1 for Distinct-1, 2 for Distinct-2).\n",
    "\n",
    "    Returns:\n",
    "        float: The distinct-n score (number of unique n-grams / total n-grams).\n",
    "    \"\"\"\n",
    "    all_ngrams = []\n",
    "    for sentence in sentences:\n",
    "        tokens = sentence.strip().split()\n",
    "        ngrams = zip(*[tokens[i:] for i in range(n)])\n",
    "        all_ngrams.extend(ngrams)\n",
    "\n",
    "    total_ngrams = len(all_ngrams)\n",
    "    unique_ngrams = len(set(all_ngrams))\n",
    "\n",
    "    if total_ngrams == 0:\n",
    "        return 0.0\n",
    "    return unique_ngrams / total_ngrams"
   ]
  },
  {
   "cell_type": "code",
   "execution_count": 6,
   "id": "0c778a69",
   "metadata": {},
   "outputs": [],
   "source": [
    "def calculate_token_diversity(directory_path: str, column_name: str, n: int = 2) -> None:\n",
    "    results = {}\n",
    "\n",
    "    for filename in os.listdir(directory_path):\n",
    "        if filename.endswith(\".csv\"):\n",
    "            file_path = os.path.join(directory_path, filename)\n",
    "            try:\n",
    "                df = pd.read_csv(file_path)\n",
    "                if column_name in df.columns:\n",
    "                    sentences = df[column_name].dropna().astype(str).tolist()\n",
    "                    score = distinct_n(sentences, n=n)\n",
    "                    results[filename] = {\"distinct_n\": score}\n",
    "                else:\n",
    "                    results[filename] = {\"error\": f\"Column '{column_name}' not found\"}\n",
    "            except Exception as e:\n",
    "                results[filename] = {\"error\": str(e)}\n",
    "\n",
    "    # Save all results to a JSON file\n",
    "    output_path = os.path.join(directory_path, \"distinct_n_results.json\")\n",
    "    with open(output_path, \"w\") as f:\n",
    "        json.dump(results, f, indent=4)\n",
    "\n",
    "    print(f\"Results saved to {output_path}\")\n"
   ]
  },
  {
   "cell_type": "code",
   "execution_count": 7,
   "id": "7cdfeadb",
   "metadata": {},
   "outputs": [
    {
     "name": "stdout",
     "output_type": "stream",
     "text": [
      "Results saved to /home/praveen/theoden/emnlp25/results/datasets/distinct_n_results.json\n"
     ]
    }
   ],
   "source": [
    "calculate_token_diversity(\"/home/praveen/theoden/emnlp25/results/datasets\", column_name=\"gen_answer\", n=2)"
   ]
  },
  {
   "cell_type": "code",
   "execution_count": 8,
   "id": "5b3e688b",
   "metadata": {},
   "outputs": [],
   "source": [
    "tite = pd.read_csv('/home/praveen/theoden/emnlp25/title_df.csv')"
   ]
  },
  {
   "cell_type": "code",
   "execution_count": 9,
   "id": "71f11c5c",
   "metadata": {},
   "outputs": [],
   "source": [
    "tite['type_retain'] = tite['type_retain'].fillna('general')"
   ]
  },
  {
   "cell_type": "code",
   "execution_count": 10,
   "id": "f7bf7150",
   "metadata": {},
   "outputs": [
    {
     "data": {
      "text/plain": [
       "type_retain\n",
       "domain     0.635203\n",
       "entity     0.202110\n",
       "general    0.162687\n",
       "Name: proportion, dtype: float64"
      ]
     },
     "execution_count": 10,
     "metadata": {},
     "output_type": "execute_result"
    }
   ],
   "source": [
    "tite['type_retain'].value_counts(normalize=True)"
   ]
  },
  {
   "cell_type": "code",
   "execution_count": 11,
   "id": "1ef690e1",
   "metadata": {},
   "outputs": [],
   "source": [
    "test = pd.read_csv('/home/praveen/theoden/emnlp25/full_test_set.csv')"
   ]
  },
  {
   "cell_type": "code",
   "execution_count": 12,
   "id": "91982532",
   "metadata": {},
   "outputs": [
    {
     "data": {
      "text/html": [
       "<div>\n",
       "<style scoped>\n",
       "    .dataframe tbody tr th:only-of-type {\n",
       "        vertical-align: middle;\n",
       "    }\n",
       "\n",
       "    .dataframe tbody tr th {\n",
       "        vertical-align: top;\n",
       "    }\n",
       "\n",
       "    .dataframe thead th {\n",
       "        text-align: right;\n",
       "    }\n",
       "</style>\n",
       "<table border=\"1\" class=\"dataframe\">\n",
       "  <thead>\n",
       "    <tr style=\"text-align: right;\">\n",
       "      <th></th>\n",
       "      <th>title</th>\n",
       "      <th>question</th>\n",
       "      <th>answer</th>\n",
       "      <th>type</th>\n",
       "    </tr>\n",
       "  </thead>\n",
       "  <tbody>\n",
       "    <tr>\n",
       "      <th>0</th>\n",
       "      <td>Abraham Lincoln</td>\n",
       "      <td>Which new political party did Abraham Lincoln ...</td>\n",
       "      <td>Republican Party</td>\n",
       "      <td>general</td>\n",
       "    </tr>\n",
       "    <tr>\n",
       "      <th>1</th>\n",
       "      <td>Abraham Lincoln</td>\n",
       "      <td>Which act angered Abraham Lincoln in 1854, pro...</td>\n",
       "      <td>Kansas–Nebraska Act</td>\n",
       "      <td>general</td>\n",
       "    </tr>\n",
       "    <tr>\n",
       "      <th>2</th>\n",
       "      <td>Abraham Lincoln</td>\n",
       "      <td>In which state was Abraham Lincoln born?</td>\n",
       "      <td>Kentucky</td>\n",
       "      <td>general</td>\n",
       "    </tr>\n",
       "    <tr>\n",
       "      <th>3</th>\n",
       "      <td>Abraham Lincoln</td>\n",
       "      <td>What profession did Abraham Lincoln have befor...</td>\n",
       "      <td>Lawyer</td>\n",
       "      <td>general</td>\n",
       "    </tr>\n",
       "    <tr>\n",
       "      <th>4</th>\n",
       "      <td>Abraham Lincoln</td>\n",
       "      <td>When was Abraham Lincoln born?</td>\n",
       "      <td>February 12, 1809</td>\n",
       "      <td>general</td>\n",
       "    </tr>\n",
       "  </tbody>\n",
       "</table>\n",
       "</div>"
      ],
      "text/plain": [
       "             title                                           question  \\\n",
       "0  Abraham Lincoln  Which new political party did Abraham Lincoln ...   \n",
       "1  Abraham Lincoln  Which act angered Abraham Lincoln in 1854, pro...   \n",
       "2  Abraham Lincoln           In which state was Abraham Lincoln born?   \n",
       "3  Abraham Lincoln  What profession did Abraham Lincoln have befor...   \n",
       "4  Abraham Lincoln                     When was Abraham Lincoln born?   \n",
       "\n",
       "                answer     type  \n",
       "0     Republican Party  general  \n",
       "1  Kansas–Nebraska Act  general  \n",
       "2             Kentucky  general  \n",
       "3               Lawyer  general  \n",
       "4    February 12, 1809  general  "
      ]
     },
     "execution_count": 12,
     "metadata": {},
     "output_type": "execute_result"
    }
   ],
   "source": [
    "test.head()"
   ]
  },
  {
   "cell_type": "code",
   "execution_count": null,
   "id": "03a39103",
   "metadata": {},
   "outputs": [],
   "source": [
    "final_output_paths = []\n",
    "\n",
    "# Use corrected nested paths for batch processing\n",
    "for base_dir in corrected_dirs:\n",
    "    files = os.listdir(base_dir)\n",
    "    grouped = {}\n",
    "\n",
    "    for fname in files:\n",
    "        algo, experiment, dtype = parse_filename(fname)\n",
    "        if not all([algo, experiment, dtype]):\n",
    "            continue\n",
    "        key = (algo, experiment)\n",
    "        grouped.setdefault(key, {})[dtype] = os.path.join(base_dir, fname)\n",
    "\n",
    "    for key, paths in grouped.items():\n",
    "        if \"forget\" in paths and \"test\" in paths:\n",
    "            algo, experiment = key\n",
    "            forget_path = paths[\"forget\"]\n",
    "            test_path = paths[\"test\"]\n",
    "\n",
    "            forget_df = pd.read_csv(forget_path)\n",
    "            test_df = pd.read_csv(test_path)\n",
    "\n",
    "            # Normalize column names\n",
    "            forget_df.columns = [col.lower().strip().replace(\"-\", \"_\") for col in forget_df.columns]\n",
    "            test_df.columns = [col.lower().strip().replace(\"-\", \"_\") for col in test_df.columns]\n",
    "\n",
    "            # Check required columns\n",
    "            required_cols = {\"title\", \"probs\", \"rouge_l\", \"cos_sim\"}\n",
    "            if not required_cols.issubset(forget_df.columns) or not required_cols.issubset(test_df.columns):\n",
    "                continue\n",
    "\n",
    "            # FE computation\n",
    "            forget_df[\"fe_sample_score\"] = forget_df[[\"probs\", \"rouge_l\", \"cos_sim\"]].mean(axis=1)\n",
    "            fe_title = 1 - forget_df.groupby(\"title\")[\"fe_sample_score\"].mean()\n",
    "\n",
    "            # MU-T computation (filter out 'general')\n",
    "            if \"type\" in test_df.columns:\n",
    "                test_df = test_df[test_df[\"type\"].str.lower() != \"general\"]\n",
    "            test_df[\"mut_sample_score\"] = test_df.apply(rowwise_hmean, axis=1)\n",
    "            mut_title = test_df.groupby(\"title\")[\"mut_sample_score\"].mean()\n",
    "\n",
    "            # Combine\n",
    "            title_set = sorted(set(fe_title.index).union(mut_title.index))\n",
    "            result = {\n",
    "                title: {\n",
    "                    \"FE\": round(fe_title.get(title, float(\"nan\")), 6),\n",
    "                    \"MU_T\": round(mut_title.get(title, float(\"nan\")), 6)\n",
    "                }\n",
    "                for title in title_set\n",
    "            }\n",
    "\n",
    "            # Write to JSON\n",
    "            out_filename = f\"{algo}_{experiment}_per_title.json\"\n",
    "            out_path = os.path.join(\"/mnt/data/\", out_filename)\n",
    "            with open(out_path, \"w\") as f:\n",
    "                json.dump(result, f, indent=2)\n",
    "            final_output_paths.append(out_path)\n"
   ]
  }
 ],
 "metadata": {
  "kernelspec": {
   "display_name": "emnlp",
   "language": "python",
   "name": "python3"
  },
  "language_info": {
   "codemirror_mode": {
    "name": "ipython",
    "version": 3
   },
   "file_extension": ".py",
   "mimetype": "text/x-python",
   "name": "python",
   "nbconvert_exporter": "python",
   "pygments_lexer": "ipython3",
   "version": "3.11.11"
  }
 },
 "nbformat": 4,
 "nbformat_minor": 5
}
