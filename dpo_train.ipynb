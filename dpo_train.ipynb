{
 "cells": [
  {
   "cell_type": "code",
   "execution_count": 1,
   "id": "6b938483",
   "metadata": {},
   "outputs": [],
   "source": [
    "import pandas as pd\n",
    "import random\n",
    "import json\n",
    "from datasets import Dataset\n"
   ]
  },
  {
   "cell_type": "code",
   "execution_count": 19,
   "id": "38d29713",
   "metadata": {},
   "outputs": [],
   "source": [
    "df = pd.read_csv(\"/home/praveen/theoden/emnlp_25/forget_20_1.csv\")"
   ]
  },
  {
   "cell_type": "code",
   "execution_count": 20,
   "id": "a24d1853",
   "metadata": {},
   "outputs": [],
   "source": [
    "with open(\"idk.jsonl\", \"r\", encoding=\"utf-8\") as f:\n",
    "    idk_responses = [line.strip() for line in f if line.strip()]"
   ]
  },
  {
   "cell_type": "code",
   "execution_count": 21,
   "id": "0ee6e395",
   "metadata": {},
   "outputs": [],
   "source": [
    "def make_chat_format(question, response):\n",
    "    return [\n",
    "        {\"role\": \"user\", \"content\": question},\n",
    "        {\"role\": \"assistant\", \"content\": response}\n",
    "    ]\n",
    "\n",
    "# Create new columns\n",
    "df[\"chosen\"] = df.apply(lambda row: make_chat_format(row[\"question\"], random.choice(idk_responses)), axis=1)\n",
    "df[\"rejected\"] = df.apply(lambda row: make_chat_format(row[\"question\"], row[\"answer\"]), axis=1)\n"
   ]
  },
  {
   "cell_type": "code",
   "execution_count": 24,
   "id": "9014f1be",
   "metadata": {},
   "outputs": [],
   "source": [
    "df = df.drop(columns=[\"answer\", \"paraphrased_question\", \"wikipage\", \"title\", \"question\"])"
   ]
  },
  {
   "cell_type": "code",
   "execution_count": 25,
   "id": "44c3a053",
   "metadata": {},
   "outputs": [
    {
     "data": {
      "text/html": [
       "<div>\n",
       "<style scoped>\n",
       "    .dataframe tbody tr th:only-of-type {\n",
       "        vertical-align: middle;\n",
       "    }\n",
       "\n",
       "    .dataframe tbody tr th {\n",
       "        vertical-align: top;\n",
       "    }\n",
       "\n",
       "    .dataframe thead th {\n",
       "        text-align: right;\n",
       "    }\n",
       "</style>\n",
       "<table border=\"1\" class=\"dataframe\">\n",
       "  <thead>\n",
       "    <tr style=\"text-align: right;\">\n",
       "      <th></th>\n",
       "      <th>chosen</th>\n",
       "      <th>rejected</th>\n",
       "    </tr>\n",
       "  </thead>\n",
       "  <tbody>\n",
       "    <tr>\n",
       "      <th>0</th>\n",
       "      <td>[{'role': 'user', 'content': 'What nationality...</td>\n",
       "      <td>[{'role': 'user', 'content': 'What nationality...</td>\n",
       "    </tr>\n",
       "    <tr>\n",
       "      <th>1</th>\n",
       "      <td>[{'role': 'user', 'content': 'What professions...</td>\n",
       "      <td>[{'role': 'user', 'content': 'What professions...</td>\n",
       "    </tr>\n",
       "    <tr>\n",
       "      <th>2</th>\n",
       "      <td>[{'role': 'user', 'content': 'Where was Benede...</td>\n",
       "      <td>[{'role': 'user', 'content': 'Where was Benede...</td>\n",
       "    </tr>\n",
       "    <tr>\n",
       "      <th>3</th>\n",
       "      <td>[{'role': 'user', 'content': 'Who commissioned...</td>\n",
       "      <td>[{'role': 'user', 'content': 'Who commissioned...</td>\n",
       "    </tr>\n",
       "    <tr>\n",
       "      <th>4</th>\n",
       "      <td>[{'role': 'user', 'content': 'When was Varchi'...</td>\n",
       "      <td>[{'role': 'user', 'content': 'When was Varchi'...</td>\n",
       "    </tr>\n",
       "  </tbody>\n",
       "</table>\n",
       "</div>"
      ],
      "text/plain": [
       "                                              chosen  \\\n",
       "0  [{'role': 'user', 'content': 'What nationality...   \n",
       "1  [{'role': 'user', 'content': 'What professions...   \n",
       "2  [{'role': 'user', 'content': 'Where was Benede...   \n",
       "3  [{'role': 'user', 'content': 'Who commissioned...   \n",
       "4  [{'role': 'user', 'content': 'When was Varchi'...   \n",
       "\n",
       "                                            rejected  \n",
       "0  [{'role': 'user', 'content': 'What nationality...  \n",
       "1  [{'role': 'user', 'content': 'What professions...  \n",
       "2  [{'role': 'user', 'content': 'Where was Benede...  \n",
       "3  [{'role': 'user', 'content': 'Who commissioned...  \n",
       "4  [{'role': 'user', 'content': 'When was Varchi'...  "
      ]
     },
     "execution_count": 25,
     "metadata": {},
     "output_type": "execute_result"
    }
   ],
   "source": [
    "df.head()"
   ]
  },
  {
   "cell_type": "code",
   "execution_count": 26,
   "id": "205673f1",
   "metadata": {},
   "outputs": [],
   "source": [
    "df.to_csv('dpo_forget.csv', index = False)"
   ]
  }
 ],
 "metadata": {
  "kernelspec": {
   "display_name": "emnlp",
   "language": "python",
   "name": "python3"
  },
  "language_info": {
   "codemirror_mode": {
    "name": "ipython",
    "version": 3
   },
   "file_extension": ".py",
   "mimetype": "text/x-python",
   "name": "python",
   "nbconvert_exporter": "python",
   "pygments_lexer": "ipython3",
   "version": "3.11.11"
  }
 },
 "nbformat": 4,
 "nbformat_minor": 5
}
