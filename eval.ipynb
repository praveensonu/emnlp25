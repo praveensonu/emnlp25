{
 "cells": [
  {
   "cell_type": "code",
   "execution_count": 1,
   "id": "a2635956",
   "metadata": {},
   "outputs": [],
   "source": [
    "import os\n",
    "\n",
    "os.environ['CUDA_VISIBLE_DEVICES'] = '3'"
   ]
  },
  {
   "cell_type": "markdown",
   "id": "98e8ecac",
   "metadata": {},
   "source": [
    "### checking only test set "
   ]
  },
  {
   "cell_type": "code",
   "execution_count": 4,
   "id": "727010a1",
   "metadata": {},
   "outputs": [],
   "source": [
    "import pandas as pd\n",
    "from eval_utils import compute_model_utility_retain, compute_forget_efficacy, compute_model_utility_test\n",
    "import torch\n",
    "from transformers import AutoTokenizer, AutoModelForCausalLM\n",
    "from config import Config\n",
    "from peft import PeftModel\n",
    "from utils import update_json_dict\n",
    "from template import LLAMA3_CHAT_TEMPLATE\n",
    "import warnings\n",
    "from transformers import logging as hf_logging\n",
    "\n",
    "hf_logging.set_verbosity_error()\n",
    "\n",
    "warnings.filterwarnings(\"ignore\")"
   ]
  },
  {
   "cell_type": "code",
   "execution_count": 5,
   "id": "ce9673d7",
   "metadata": {},
   "outputs": [
    {
     "name": "stdout",
     "output_type": "stream",
     "text": [
      "loading forget, retain and test set\n"
     ]
    }
   ],
   "source": [
    "cfg = Config()\n",
    "print('loading forget, retain and test set')\n",
    "test = pd.read_csv(cfg.test_path)"
   ]
  },
  {
   "cell_type": "code",
   "execution_count": 6,
   "id": "2bf8bd64",
   "metadata": {},
   "outputs": [
    {
     "name": "stdout",
     "output_type": "stream",
     "text": [
      "\n",
      "\n",
      " Conducting evaluation on: cyclic_gd\n"
     ]
    }
   ],
   "source": [
    "device = 'cuda'\n",
    "\n",
    "print('\\n\\n Conducting evaluation on:', cfg.exp_type)\n"
   ]
  },
  {
   "cell_type": "code",
   "execution_count": 7,
   "id": "eabb26c5",
   "metadata": {},
   "outputs": [],
   "source": [
    "cfg.model_id = 'praveensonu/llama_3_1_8b_finetuned'\n",
    "cfg.results_path = f'/home/praveen/theoden/emnlp25/results/scores/{cfg.exp_type}_results.json'\n",
    "cfg.save_dir = '/home/praveen/theoden/emnlp25/outputs/cyclic_gd'"
   ]
  },
  {
   "cell_type": "code",
   "execution_count": 8,
   "id": "64f32b67",
   "metadata": {},
   "outputs": [],
   "source": [
    "# ---- Loading Tokenizer -----------\n",
    "tokenizer = AutoTokenizer.from_pretrained(cfg.model_id)\n",
    "tokenizer.pad_token = tokenizer.eos_token"
   ]
  },
  {
   "cell_type": "code",
   "execution_count": 9,
   "id": "f3b066ef",
   "metadata": {},
   "outputs": [
    {
     "data": {
      "application/vnd.jupyter.widget-view+json": {
       "model_id": "6a222ec0fa124ceabb140b2774cf4955",
       "version_major": 2,
       "version_minor": 0
      },
      "text/plain": [
       "Loading checkpoint shards:   0%|          | 0/4 [00:00<?, ?it/s]"
      ]
     },
     "metadata": {},
     "output_type": "display_data"
    }
   ],
   "source": [
    "# ---- Loading model -----------\n",
    "base_model = AutoModelForCausalLM.from_pretrained(cfg.model_id, token = cfg.access_token, device_map = \"auto\", torch_dtype=torch.bfloat16)\n",
    "model = PeftModel.from_pretrained(base_model, cfg.save_dir, device_map=\"auto\", torch_dtype=torch.bfloat16) \n",
    "\n",
    "model = model.merge_and_unload()"
   ]
  },
  {
   "cell_type": "code",
   "execution_count": 10,
   "id": "b4e4987b",
   "metadata": {},
   "outputs": [],
   "source": [
    "def make_template_format(df):\n",
    "    df['question'] = df['question'].apply(lambda x : LLAMA3_CHAT_TEMPLATE.format(question = x))\n",
    "    # df['answer'] = df['answer'].apply(lambda x : x + tokenizer.eos_token)  #for evaluation, we dont need the eos token on the answer.\n",
    "    return df"
   ]
  },
  {
   "cell_type": "code",
   "execution_count": 11,
   "id": "875abacc",
   "metadata": {},
   "outputs": [],
   "source": [
    "test = make_template_format(test)"
   ]
  },
  {
   "cell_type": "code",
   "execution_count": 12,
   "id": "186c7ef2",
   "metadata": {},
   "outputs": [
    {
     "data": {
      "application/vnd.jupyter.widget-view+json": {
       "model_id": "a35b582a917543c488ca47389fbeacaf",
       "version_major": 2,
       "version_minor": 0
      },
      "text/plain": [
       "Computing test utility:   0%|          | 0/738 [00:00<?, ?row/s]"
      ]
     },
     "metadata": {},
     "output_type": "display_data"
    },
    {
     "name": "stdout",
     "output_type": "stream",
     "text": [
      "test utility (H-mean): 0.6956\n"
     ]
    }
   ],
   "source": [
    "test_df, all_test_scores, test_model_utility, ppl_test = compute_model_utility_test(\n",
    "    test = test,\n",
    "    model = model,\n",
    "    tokenizer = tokenizer,\n",
    "    retriever_model= cfg.retriever_model,\n",
    "    device = device,\n",
    ")\n"
   ]
  },
  {
   "cell_type": "code",
   "execution_count": 13,
   "id": "9776e0ab",
   "metadata": {},
   "outputs": [
    {
     "name": "stdout",
     "output_type": "stream",
     "text": [
      "model utility test 0.6955807709465662\n",
      "\n",
      "test ppl 9.089646060658888\n"
     ]
    }
   ],
   "source": [
    "print('model utility test', test_model_utility.item())\n",
    "print('\\ntest ppl', ppl_test.item())"
   ]
  },
  {
   "cell_type": "code",
   "execution_count": 14,
   "id": "e738e69b",
   "metadata": {},
   "outputs": [],
   "source": [
    "test_df.to_csv(f'/home/praveen/theoden/emnlp25/results/datasets/check_{cfg.exp_type}.csv')"
   ]
  },
  {
   "cell_type": "code",
   "execution_count": 15,
   "id": "6ca7adc6",
   "metadata": {},
   "outputs": [],
   "source": [
    "cfg.results_path = f'/home/praveen/theoden/emnlp25/results/scores/check_{cfg.exp_type}_results.json'"
   ]
  },
  {
   "cell_type": "code",
   "execution_count": 16,
   "id": "3dd2acbc",
   "metadata": {},
   "outputs": [],
   "source": [
    "results = {cfg.loss_type: \n",
    "           {'model_utility_test': test_model_utility.item(),\n",
    "           'test_scores': all_test_scores.tolist(),\n",
    "           'test_perplexity': ppl_test.item(),\n",
    "           'exp_type': cfg.exp_type,\n",
    "           'model_id': cfg.model_id,\n",
    "           'batch_size': cfg.batch_size,\n",
    "           'num_epochs': cfg.num_epochs,\n",
    "           'lr': cfg.lr,\n",
    "           'weight_decay': cfg.weight_decay,\n",
    "           'LoRA_r': cfg.LoRA_r,\n",
    "           'LoRA_alpha': cfg.LoRA_alpha,\n",
    "           }}\n",
    "\n",
    "update_json_dict(cfg.results_path, results)"
   ]
  }
 ],
 "metadata": {
  "kernelspec": {
   "display_name": "emnlp",
   "language": "python",
   "name": "python3"
  },
  "language_info": {
   "codemirror_mode": {
    "name": "ipython",
    "version": 3
   },
   "file_extension": ".py",
   "mimetype": "text/x-python",
   "name": "python",
   "nbconvert_exporter": "python",
   "pygments_lexer": "ipython3",
   "version": "3.11.11"
  }
 },
 "nbformat": 4,
 "nbformat_minor": 5
}
